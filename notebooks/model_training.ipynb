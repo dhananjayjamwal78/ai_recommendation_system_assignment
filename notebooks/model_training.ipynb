{
 "cells": [
  {
   "cell_type": "code",
   "execution_count": 1,
   "id": "14c1aeda",
   "metadata": {},
   "outputs": [
    {
     "name": "stderr",
     "output_type": "stream",
     "text": [
      "c:\\Users\\91849\\ai-recs\\backend\\venv\\Lib\\site-packages\\tqdm\\auto.py:21: TqdmWarning: IProgress not found. Please update jupyter and ipywidgets. See https://ipywidgets.readthedocs.io/en/stable/user_install.html\n",
      "  from .autonotebook import tqdm as notebook_tqdm\n"
     ]
    }
   ],
   "source": [
    "import os, io, re, json, math, random, requests, torch\n",
    "import numpy as np\n",
    "import pandas as pd\n",
    "from PIL import Image\n",
    "from tqdm.auto import tqdm\n",
    "\n",
    "# paths\n",
    "DATA_CSV = os.path.join('..','data','products.csv')\n",
    "assert os.path.exists(DATA_CSV), f\"CSV not found: {DATA_CSV}\"\n",
    "\n",
    "# display\n",
    "pd.set_option('display.max_colwidth', 200)\n"
   ]
  },
  {
   "cell_type": "code",
   "execution_count": 2,
   "id": "fc2ca7a9",
   "metadata": {},
   "outputs": [
    {
     "name": "stdout",
     "output_type": "stream",
     "text": [
      "Rows, Cols: (312, 12)\n"
     ]
    },
    {
     "data": {
      "text/html": [
       "<div>\n",
       "<style scoped>\n",
       "    .dataframe tbody tr th:only-of-type {\n",
       "        vertical-align: middle;\n",
       "    }\n",
       "\n",
       "    .dataframe tbody tr th {\n",
       "        vertical-align: top;\n",
       "    }\n",
       "\n",
       "    .dataframe thead th {\n",
       "        text-align: right;\n",
       "    }\n",
       "</style>\n",
       "<table border=\"1\" class=\"dataframe\">\n",
       "  <thead>\n",
       "    <tr style=\"text-align: right;\">\n",
       "      <th></th>\n",
       "      <th>title</th>\n",
       "      <th>brand</th>\n",
       "      <th>description</th>\n",
       "      <th>price</th>\n",
       "      <th>categories</th>\n",
       "      <th>images</th>\n",
       "      <th>manufacturer</th>\n",
       "      <th>package_dimensions</th>\n",
       "      <th>country_of_origin</th>\n",
       "      <th>material</th>\n",
       "      <th>color</th>\n",
       "      <th>uniq_id</th>\n",
       "    </tr>\n",
       "  </thead>\n",
       "  <tbody>\n",
       "    <tr>\n",
       "      <th>0</th>\n",
       "      <td>GOYMFK 1pc Free Standing Shoe Rack, Multi-layer Metal Shoe Cap Rack With 8 Double Hooks For Living Room, Bathroom, Hallway</td>\n",
       "      <td>GOYMFK</td>\n",
       "      <td>multiple shoes, coats, hats, and other items Easy to assemble: Includes all necessary hardware and instructions for easy assembly Versatile: Perfect for use in living rooms, bathrooms, hallways, a...</td>\n",
       "      <td>$24.99</td>\n",
       "      <td>['Home &amp; Kitchen', 'Storage &amp; Organization', 'Clothing &amp; Closet Storage', 'Shoe Organizers', 'Free Standing Shoe Racks']</td>\n",
       "      <td>['https://m.media-amazon.com/images/I/416WaLx10jL._SS522_.jpg ', ' https://m.media-amazon.com/images/I/41kuxipTsuL._SS522_.jpg ', ' https://m.media-amazon.com/images/I/51T9x4yZd3L._SS522_.jpg ', '...</td>\n",
       "      <td>GOYMFK</td>\n",
       "      <td>2.36\"D x 7.87\"W x 21.6\"H</td>\n",
       "      <td>China</td>\n",
       "      <td>Metal</td>\n",
       "      <td>White</td>\n",
       "      <td>02593e81-5c09-5069-8516-b0b29f439ded</td>\n",
       "    </tr>\n",
       "    <tr>\n",
       "      <th>1</th>\n",
       "      <td>subrtex Leather ding Room, Dining Chairs Set of 2, Black</td>\n",
       "      <td>subrtex</td>\n",
       "      <td>subrtex Dining chairs Set of 2</td>\n",
       "      <td></td>\n",
       "      <td>['Home &amp; Kitchen', 'Furniture', 'Dining Room Furniture', 'Chairs']</td>\n",
       "      <td>['https://m.media-amazon.com/images/I/31SejUEWY7L._SS522_.jpg ', ' https://m.media-amazon.com/images/I/41mr+A9JmbL._SS522_.jpg ', ' https://m.media-amazon.com/images/I/41JjrWgA0XL._SS522_.jpg ', '...</td>\n",
       "      <td>Subrtex Houseware INC</td>\n",
       "      <td>18.5\"D x 16\"W x 35\"H</td>\n",
       "      <td></td>\n",
       "      <td>Sponge</td>\n",
       "      <td>Black</td>\n",
       "      <td>5938d217-b8c5-5d3e-b1cf-e28e340f292e</td>\n",
       "    </tr>\n",
       "    <tr>\n",
       "      <th>2</th>\n",
       "      <td>Plant Repotting Mat MUYETOL Waterproof Transplanting Mat Indoor 26.8\" x 26.8\" Portable Square Foldable Easy to Clean Gardening Work Mat Soil Changing Mat Succulent Plant Transplanting Mat Garden G...</td>\n",
       "      <td>MUYETOL</td>\n",
       "      <td></td>\n",
       "      <td>$5.98</td>\n",
       "      <td>['Patio, Lawn &amp; Garden', 'Outdoor Décor', 'Doormats']</td>\n",
       "      <td>['https://m.media-amazon.com/images/I/41RgefVq70L._SS522_.jpg ', ' https://m.media-amazon.com/images/I/414SPEuzxlL._SS522_.jpg ', ' https://m.media-amazon.com/images/I/51gknsPKCHL._SS522_.jpg ', '...</td>\n",
       "      <td>MUYETOL</td>\n",
       "      <td>26.8\"L x 26.8\"W</td>\n",
       "      <td></td>\n",
       "      <td>Polyethylene</td>\n",
       "      <td>Green</td>\n",
       "      <td>b2ede786-3f51-5a45-9a5b-bcf856958cd8</td>\n",
       "    </tr>\n",
       "  </tbody>\n",
       "</table>\n",
       "</div>"
      ],
      "text/plain": [
       "                                                                                                                                                                                                     title  \\\n",
       "0                                                                               GOYMFK 1pc Free Standing Shoe Rack, Multi-layer Metal Shoe Cap Rack With 8 Double Hooks For Living Room, Bathroom, Hallway   \n",
       "1                                                                                                                                                 subrtex Leather ding Room, Dining Chairs Set of 2, Black   \n",
       "2  Plant Repotting Mat MUYETOL Waterproof Transplanting Mat Indoor 26.8\" x 26.8\" Portable Square Foldable Easy to Clean Gardening Work Mat Soil Changing Mat Succulent Plant Transplanting Mat Garden G...   \n",
       "\n",
       "     brand  \\\n",
       "0   GOYMFK   \n",
       "1  subrtex   \n",
       "2  MUYETOL   \n",
       "\n",
       "                                                                                                                                                                                               description  \\\n",
       "0  multiple shoes, coats, hats, and other items Easy to assemble: Includes all necessary hardware and instructions for easy assembly Versatile: Perfect for use in living rooms, bathrooms, hallways, a...   \n",
       "1                                                                                                                                                                           subrtex Dining chairs Set of 2   \n",
       "2                                                                                                                                                                                                            \n",
       "\n",
       "    price  \\\n",
       "0  $24.99   \n",
       "1           \n",
       "2   $5.98   \n",
       "\n",
       "                                                                                                                 categories  \\\n",
       "0  ['Home & Kitchen', 'Storage & Organization', 'Clothing & Closet Storage', 'Shoe Organizers', 'Free Standing Shoe Racks']   \n",
       "1                                                        ['Home & Kitchen', 'Furniture', 'Dining Room Furniture', 'Chairs']   \n",
       "2                                                                     ['Patio, Lawn & Garden', 'Outdoor Décor', 'Doormats']   \n",
       "\n",
       "                                                                                                                                                                                                    images  \\\n",
       "0  ['https://m.media-amazon.com/images/I/416WaLx10jL._SS522_.jpg ', ' https://m.media-amazon.com/images/I/41kuxipTsuL._SS522_.jpg ', ' https://m.media-amazon.com/images/I/51T9x4yZd3L._SS522_.jpg ', '...   \n",
       "1  ['https://m.media-amazon.com/images/I/31SejUEWY7L._SS522_.jpg ', ' https://m.media-amazon.com/images/I/41mr+A9JmbL._SS522_.jpg ', ' https://m.media-amazon.com/images/I/41JjrWgA0XL._SS522_.jpg ', '...   \n",
       "2  ['https://m.media-amazon.com/images/I/41RgefVq70L._SS522_.jpg ', ' https://m.media-amazon.com/images/I/414SPEuzxlL._SS522_.jpg ', ' https://m.media-amazon.com/images/I/51gknsPKCHL._SS522_.jpg ', '...   \n",
       "\n",
       "            manufacturer        package_dimensions country_of_origin  \\\n",
       "0                 GOYMFK  2.36\"D x 7.87\"W x 21.6\"H             China   \n",
       "1  Subrtex Houseware INC      18.5\"D x 16\"W x 35\"H                     \n",
       "2                MUYETOL           26.8\"L x 26.8\"W                     \n",
       "\n",
       "       material  color                               uniq_id  \n",
       "0         Metal  White  02593e81-5c09-5069-8516-b0b29f439ded  \n",
       "1        Sponge  Black  5938d217-b8c5-5d3e-b1cf-e28e340f292e  \n",
       "2  Polyethylene  Green  b2ede786-3f51-5a45-9a5b-bcf856958cd8  "
      ]
     },
     "execution_count": 2,
     "metadata": {},
     "output_type": "execute_result"
    }
   ],
   "source": [
    "df = pd.read_csv(DATA_CSV).fillna(\"\")\n",
    "print(\"Rows, Cols:\", df.shape)\n",
    "df.head(3)\n"
   ]
  },
  {
   "cell_type": "code",
   "execution_count": 3,
   "id": "10373ecd",
   "metadata": {},
   "outputs": [
    {
     "name": "stdout",
     "output_type": "stream",
     "text": [
      "                             uniq_id                                                                                                                                                                                                    title     category_main\n",
      "02593e81-5c09-5069-8516-b0b29f439ded                                                                               GOYMFK 1pc Free Standing Shoe Rack, Multi-layer Metal Shoe Cap Rack With 8 Double Hooks For Living Room, Bathroom, Hallway ['Home & Kitchen'\n",
      "5938d217-b8c5-5d3e-b1cf-e28e340f292e                                                                                                                                                 subrtex Leather ding Room, Dining Chairs Set of 2, Black ['Home & Kitchen'\n",
      "b2ede786-3f51-5a45-9a5b-bcf856958cd8 Plant Repotting Mat MUYETOL Waterproof Transplanting Mat Indoor 26.8\" x 26.8\" Portable Square Foldable Easy to Clean Gardening Work Mat Soil Changing Mat Succulent Plant Transplanting Mat Garden Gifts           ['Patio\n",
      "8fd9377b-cfa6-5f10-835c-6b8eca2816b5                                                                                                                      Pickleball Doormat, Welcome Doormat Absorbent Non-Slip Floor Mat Bathroom Mat 16x24           ['Patio\n",
      "bdc9aa30-9439-50dc-8e89-213ea211d66a                                                               JOIN IRON Foldable TV Trays for Eating Set of 4 with Stand,Folding TV/Snack Tray Table Set,Folding TV Dinner Tables for Small Space,(Grey) ['Home & Kitchen'\n",
      "\n",
      "Price stats:\n",
      " count    215.000000\n",
      "mean      67.630651\n",
      "std       57.962150\n",
      "min        0.600000\n",
      "25%       24.990000\n",
      "50%       53.990000\n",
      "75%       89.990000\n",
      "max      349.000000\n",
      "Name: price_num, dtype: float64\n",
      "\n",
      "Category samples:\n",
      " category_main\n",
      "['Home & Kitchen'              254\n",
      "['Patio                         23\n",
      "['Tools & Home Improvement'     17\n",
      "['Electronics'                   6\n",
      "['Baby Products'                 6\n",
      "['Beauty & Personal Care'        4\n",
      "['Office Products'               2\n",
      "Name: count, dtype: int64\n"
     ]
    }
   ],
   "source": [
    "# helpful coalesce\n",
    "def coalesce(*vals):\n",
    "    return ' '.join([str(v) for v in vals if pd.notna(v) and str(v).strip()])\n",
    "\n",
    "# standardize helper columns\n",
    "def first_cat(s):\n",
    "    s = str(s)\n",
    "    parts = [p.strip() for p in s.split(',') if p.strip()]\n",
    "    return parts[0] if parts else \"\"\n",
    "\n",
    "def first_img(s):\n",
    "    s = str(s)\n",
    "    return s.split(',')[0].strip() if s else \"\"\n",
    "\n",
    "# clean price numeric\n",
    "def parse_price(x):\n",
    "    s = str(x)\n",
    "    s = re.sub(r'[^\\d.\\-]', '', s)   # remove currency symbols/commas\n",
    "    try:\n",
    "        return float(s)\n",
    "    except:\n",
    "        return np.nan\n",
    "\n",
    "df['price_num'] = df.get('price', '').apply(parse_price)\n",
    "df['category_main'] = df.get('categories', '').apply(first_cat)\n",
    "df['image_0'] = df.get('images', '').apply(first_img)\n",
    "\n",
    "# master text field for embeddings (mirrors backend)\n",
    "df['doc'] = df.apply(lambda r: coalesce(\n",
    "    r.get('title'), r.get('brand'), r.get('description'),\n",
    "    r.get('material'), r.get('color')), axis=1)\n",
    "\n",
    "print(df[['uniq_id','title','category_main']].head(5).to_string(index=False))\n",
    "print(\"\\nPrice stats:\\n\", df['price_num'].describe())\n",
    "print(\"\\nCategory samples:\\n\", df['category_main'].value_counts().head(10))\n"
   ]
  },
  {
   "cell_type": "code",
   "execution_count": 4,
   "id": "56dcfe32",
   "metadata": {},
   "outputs": [
    {
     "name": "stderr",
     "output_type": "stream",
     "text": [
      "Batches: 100%|██████████| 5/5 [00:07<00:00,  1.48s/it]\n"
     ]
    },
    {
     "data": {
      "text/plain": [
       "(312, 384)"
      ]
     },
     "execution_count": 4,
     "metadata": {},
     "output_type": "execute_result"
    }
   ],
   "source": [
    "from sentence_transformers import SentenceTransformer\n",
    "\n",
    "EMB_MODEL_NAME = \"sentence-transformers/all-MiniLM-L6-v2\"  # fast & good\n",
    "embedder = SentenceTransformer(EMB_MODEL_NAME)\n",
    "\n",
    "texts = df['doc'].tolist()\n",
    "emb = embedder.encode(texts, batch_size=64, normalize_embeddings=True, show_progress_bar=True)\n",
    "emb = np.asarray(emb, dtype=np.float32)  # (N, D)\n",
    "emb.shape\n"
   ]
  },
  {
   "cell_type": "code",
   "execution_count": 5,
   "id": "164a7f64",
   "metadata": {},
   "outputs": [
    {
     "data": {
      "text/html": [
       "<div>\n",
       "<style scoped>\n",
       "    .dataframe tbody tr th:only-of-type {\n",
       "        vertical-align: middle;\n",
       "    }\n",
       "\n",
       "    .dataframe tbody tr th {\n",
       "        vertical-align: top;\n",
       "    }\n",
       "\n",
       "    .dataframe thead th {\n",
       "        text-align: right;\n",
       "    }\n",
       "</style>\n",
       "<table border=\"1\" class=\"dataframe\">\n",
       "  <thead>\n",
       "    <tr style=\"text-align: right;\">\n",
       "      <th></th>\n",
       "      <th>uniq_id</th>\n",
       "      <th>title</th>\n",
       "      <th>brand</th>\n",
       "      <th>category_main</th>\n",
       "      <th>score</th>\n",
       "    </tr>\n",
       "  </thead>\n",
       "  <tbody>\n",
       "    <tr>\n",
       "      <th>0</th>\n",
       "      <td>02593e81-5c09-5069-8516-b0b29f439ded</td>\n",
       "      <td>GOYMFK 1pc Free Standing Shoe Rack, Multi-layer Metal Shoe Cap Rack With 8 Double Hooks For Living Room, Bathroom, Hallway</td>\n",
       "      <td>GOYMFK</td>\n",
       "      <td>['Home &amp; Kitchen'</td>\n",
       "      <td>1.000000</td>\n",
       "    </tr>\n",
       "    <tr>\n",
       "      <th>1</th>\n",
       "      <td>02593e81-5c09-5069-8516-b0b29f439ded</td>\n",
       "      <td>GOYMFK 1pc Free Standing Shoe Rack, Multi-layer Metal Shoe Cap Rack With 8 Double Hooks For Living Room, Bathroom, Hallway</td>\n",
       "      <td>GOYMFK</td>\n",
       "      <td>['Home &amp; Kitchen'</td>\n",
       "      <td>1.000000</td>\n",
       "    </tr>\n",
       "    <tr>\n",
       "      <th>2</th>\n",
       "      <td>122c5c2a-5490-51ce-8555-9526c9698a38</td>\n",
       "      <td>LANTEFUL Shoe Rack Organizer Shoe Storage Cabinet 8 Tiers 32 Pair Portable Shoe Storage Sturdy Plastic Black Shoe Shelf with Hooks Shoe Rack with Door for Entryway, Bedroom and Hallway</td>\n",
       "      <td>LANTEFUL Store</td>\n",
       "      <td>['Home &amp; Kitchen'</td>\n",
       "      <td>0.656346</td>\n",
       "    </tr>\n",
       "    <tr>\n",
       "      <th>3</th>\n",
       "      <td>f28d5cba-ecd4-5d82-87da-d926d48e1155</td>\n",
       "      <td>sogesfurniture 5 Tier Free Standing Wooden Shoe Storage Shelf Shoe Organizer, 29.5 inches Shoe Rack Shoe Organizer Storage Cabinet for Entryway, Living Room, Hallway, Doorway, Black</td>\n",
       "      <td>sogesfurniture Store</td>\n",
       "      <td>['Home &amp; Kitchen'</td>\n",
       "      <td>0.656067</td>\n",
       "    </tr>\n",
       "    <tr>\n",
       "      <th>4</th>\n",
       "      <td>c118a4dc-505e-512f-ba76-bd4e56569556</td>\n",
       "      <td>FLYJOE Shoe Rack Bench, 3-Tier Freestanding Wooden Shoe Organizer with Seat, Entryway Bench, Storage Shelf for Kitchen Living Room Bathroom Bedroom, Walnut</td>\n",
       "      <td>FLYJOE</td>\n",
       "      <td>['Home &amp; Kitchen'</td>\n",
       "      <td>0.633523</td>\n",
       "    </tr>\n",
       "    <tr>\n",
       "      <th>5</th>\n",
       "      <td>a10176fb-74af-5428-9aaf-2787aa4d66d2</td>\n",
       "      <td>MoNiBloom Foldable Storage Free Standing Shoes Shelf, Bamboo Multifunctional 4-Tier Shoe Organizer for 16-20 Pairs Entryway, Hallway, Corridor, Natural</td>\n",
       "      <td>MoNiBloom Store</td>\n",
       "      <td>['Home &amp; Kitchen'</td>\n",
       "      <td>0.585027</td>\n",
       "    </tr>\n",
       "  </tbody>\n",
       "</table>\n",
       "</div>"
      ],
      "text/plain": [
       "                                uniq_id  \\\n",
       "0  02593e81-5c09-5069-8516-b0b29f439ded   \n",
       "1  02593e81-5c09-5069-8516-b0b29f439ded   \n",
       "2  122c5c2a-5490-51ce-8555-9526c9698a38   \n",
       "3  f28d5cba-ecd4-5d82-87da-d926d48e1155   \n",
       "4  c118a4dc-505e-512f-ba76-bd4e56569556   \n",
       "5  a10176fb-74af-5428-9aaf-2787aa4d66d2   \n",
       "\n",
       "                                                                                                                                                                                      title  \\\n",
       "0                                                                GOYMFK 1pc Free Standing Shoe Rack, Multi-layer Metal Shoe Cap Rack With 8 Double Hooks For Living Room, Bathroom, Hallway   \n",
       "1                                                                GOYMFK 1pc Free Standing Shoe Rack, Multi-layer Metal Shoe Cap Rack With 8 Double Hooks For Living Room, Bathroom, Hallway   \n",
       "2  LANTEFUL Shoe Rack Organizer Shoe Storage Cabinet 8 Tiers 32 Pair Portable Shoe Storage Sturdy Plastic Black Shoe Shelf with Hooks Shoe Rack with Door for Entryway, Bedroom and Hallway   \n",
       "3     sogesfurniture 5 Tier Free Standing Wooden Shoe Storage Shelf Shoe Organizer, 29.5 inches Shoe Rack Shoe Organizer Storage Cabinet for Entryway, Living Room, Hallway, Doorway, Black   \n",
       "4                               FLYJOE Shoe Rack Bench, 3-Tier Freestanding Wooden Shoe Organizer with Seat, Entryway Bench, Storage Shelf for Kitchen Living Room Bathroom Bedroom, Walnut   \n",
       "5                                   MoNiBloom Foldable Storage Free Standing Shoes Shelf, Bamboo Multifunctional 4-Tier Shoe Organizer for 16-20 Pairs Entryway, Hallway, Corridor, Natural   \n",
       "\n",
       "                  brand      category_main     score  \n",
       "0                GOYMFK  ['Home & Kitchen'  1.000000  \n",
       "1                GOYMFK  ['Home & Kitchen'  1.000000  \n",
       "2        LANTEFUL Store  ['Home & Kitchen'  0.656346  \n",
       "3  sogesfurniture Store  ['Home & Kitchen'  0.656067  \n",
       "4                FLYJOE  ['Home & Kitchen'  0.633523  \n",
       "5       MoNiBloom Store  ['Home & Kitchen'  0.585027  "
      ]
     },
     "execution_count": 5,
     "metadata": {},
     "output_type": "execute_result"
    }
   ],
   "source": [
    "def cosine_sim_matrix_row(vectors, i):\n",
    "    return vectors @ vectors[i]\n",
    "\n",
    "idx = 0  # take first row as anchor\n",
    "sims = cosine_sim_matrix_row(emb, idx)\n",
    "top = np.argsort(-sims)[:6]  # top6 incl. self\n",
    "df.iloc[top][['uniq_id','title','brand','category_main']].assign(score=sims[top]).reset_index(drop=True)\n"
   ]
  },
  {
   "cell_type": "code",
   "execution_count": 7,
   "id": "ecfa971e",
   "metadata": {},
   "outputs": [
    {
     "name": "stdout",
     "output_type": "stream",
     "text": [
      "\n",
      "QUERY: modern wooden chair\n",
      " - Black Leather Office Chair Mid Back Leather Desk Chair Modern Excutive Office Chair with Arms and Wheels for Home Office, by Artswish\n",
      " - PONTMENT Foot Stool Leather Footstool Solid Wood Vintage Foot Rest Faux Leather Ottoman Upholstered Footrest for Living Room/Sofa/Couch.\n",
      " - Armen Living Julius 30\" Cream Faux Leather and Walnut Wood Bar Stool\n",
      " - Adeco Euro Style Fabric Arm Bench Chair Footstool Cubic Ottomans, Brown\n",
      " - Christopher Knight Home Munro Recliner, Navy Blue + Teak\n",
      "\n",
      "QUERY: office desk\n",
      " - ODK Small Computer Desk, 27.5 Inch, Compact Tiny Study Desk with Storage and Monitor Stand for Home Office, Small Spaces, Black\n",
      " - ODK Small Computer Desk, 27.5 inch Desk for Small Spaces with Storage, Compact Table with Monitor & Storage Shelves for Home Office, Modern Style Laptop Desk, Pure White\n",
      " - It's_Organized Gaming Desk 55 inch PC Computer Desk, K-Frame Home Office Desk Professional Gamer Workstation with Cup Holder Headphone Hook Gaming Handle Rack Free Mousepad, Black\n",
      " - Lufeiya Small Computer Desk with 2 Drawers for Bedroom, 31 Inch Home Office Desk with Storage Fabric Drawer and Bag, Study Writing Table for Small Spaces, Rustic Brown\n",
      " - Flash Furniture Walker Small Rustic Natural Home Office Folding Computer Desk - 36\"\n",
      "\n",
      "QUERY: table lamp\n",
      " - Henn&Hart 20\" Wide Round Side Table with Mirror Shelf in Antique Brass, Table for Living Room, Bedroom\n",
      " - Flash Furniture Webb Commercial Grade 24\" Round Blue Metal Indoor-Outdoor Table\n",
      " - FLYJOE Narrow Side Table with PU Leather Magazine Holder Rustic Slim Little Thin Table for Living Room, Bedroom, Sofa, Set of 2, Black\n",
      " - Get Set Style Black Glass Side Table, Square Glass End Table Modern Coffee Table with Storage, Glass Mirrored Table for Living Room, Balcony, Bedroom, Office\n",
      " - Seventable Nightstand with Charging Station and LED Lights, Modern Design End Side Table with 2 Drawers, Nightstand Open Compartment for Bedroom, Black\n",
      "\n",
      "QUERY: leather sofa\n",
      " - PONTMENT Foot Stool Leather Footstool Solid Wood Vintage Foot Rest Faux Leather Ottoman Upholstered Footrest for Living Room/Sofa/Couch.\n",
      " - Leather At Home, Decorative 13 Inch Rounded Pillow Handmade from Full Grain Leather - Chair Seat, Confortable Sitting for Round Wooden/Metal Stools - Bourbon Brown\n",
      " - Asense Small Footstool Ottoman Set of 2, Faux Leather Upholstered Rectangular Footrest with Plastic Legs, Celadon\n",
      " - HomePop Home Decor | K2380-YDQY-2 | Luxury Large Faux Leather Square Storage Ottoman | Ottoman with Storage for Living Room & Bedroom, Dark Brown\n",
      " - Karl home Accent Chair Mid-Century Modern Chair with Pillow Upholstered Lounge Arm Chair with Solid Wood Frame & Soft Cushion for Living Room, Bedroom, Belcony, Beige\n"
     ]
    }
   ],
   "source": [
    "from langchain_community.vectorstores import FAISS\n",
    "from langchain.embeddings.base import Embeddings\n",
    "\n",
    "class SBERTEmbeddings(Embeddings):\n",
    "    def __init__(self, model: SentenceTransformer):\n",
    "        self.model = model\n",
    "    def embed_documents(self, texts):\n",
    "        return self.model.encode(texts, normalize_embeddings=True).tolist()\n",
    "    def embed_query(self, text):\n",
    "        return self.model.encode([text], normalize_embeddings=True)[0].tolist()\n",
    "\n",
    "metas = df.to_dict(orient='records')\n",
    "store = FAISS.from_texts(df['doc'].tolist(), embedding=SBERTEmbeddings(embedder), metadatas=metas)\n",
    "\n",
    "# test a few queries that should work across many catalogs\n",
    "for q in [\"modern wooden chair\", \"office desk\", \"table lamp\", \"leather sofa\"]:\n",
    "    hits = store.similarity_search(q, k=5)\n",
    "    print(\"\\nQUERY:\", q)\n",
    "    for h in hits:\n",
    "        print(\" -\", h.metadata.get('title','(no title)'))\n"
   ]
  },
  {
   "cell_type": "code",
   "execution_count": 8,
   "id": "c71b06f0",
   "metadata": {},
   "outputs": [
    {
     "name": "stdout",
     "output_type": "stream",
     "text": [
      "Saved: ['sbert_faiss']\n"
     ]
    }
   ],
   "source": [
    "SAVE_DIR = os.path.join('..','models','faiss')\n",
    "os.makedirs(SAVE_DIR, exist_ok=True)\n",
    "store.save_local(os.path.join(SAVE_DIR, 'sbert_faiss'))\n",
    "print(\"Saved:\", os.listdir(SAVE_DIR))\n"
   ]
  },
  {
   "cell_type": "code",
   "execution_count": 9,
   "id": "482a96f7",
   "metadata": {},
   "outputs": [
    {
     "name": "stderr",
     "output_type": "stream",
     "text": [
      "c:\\Users\\91849\\ai-recs\\backend\\venv\\Lib\\site-packages\\huggingface_hub\\file_download.py:143: UserWarning: `huggingface_hub` cache-system uses symlinks by default to efficiently store duplicated files but your machine does not support them in C:\\Users\\91849\\.cache\\huggingface\\hub\\models--openai--clip-vit-base-patch32. Caching files will still work but in a degraded version that might require more space on your disk. This warning can be disabled by setting the `HF_HUB_DISABLE_SYMLINKS_WARNING` environment variable. For more details, see https://huggingface.co/docs/huggingface_hub/how-to-cache#limitations.\n",
      "To support symlinks on Windows, you either need to activate Developer Mode or to run Python as an administrator. In order to activate developer mode, see this article: https://docs.microsoft.com/en-us/windows/apps/get-started/enable-your-device-for-development\n",
      "  warnings.warn(message)\n",
      "Xet Storage is enabled for this repo, but the 'hf_xet' package is not installed. Falling back to regular HTTP download. For better performance, install the package with: `pip install huggingface_hub[hf_xet]` or `pip install hf_xet`\n",
      "Using a slow image processor as `use_fast` is unset and a slow processor was saved with this model. `use_fast=True` will be the default behavior in v4.52, even if the model was saved with a slow processor. This will result in minor differences in outputs. You'll still be able to use a slow processor with `use_fast=False`.\n",
      "Xet Storage is enabled for this repo, but the 'hf_xet' package is not installed. Falling back to regular HTTP download. For better performance, install the package with: `pip install huggingface_hub[hf_xet]` or `pip install hf_xet`\n"
     ]
    },
    {
     "name": "stdout",
     "output_type": "stream",
     "text": [
      "Label count: 7 Example labels: [\"['Baby Products'\", \"['Beauty & Personal Care'\", \"['Electronics'\", \"['Home & Kitchen'\", \"['Office Products'\", \"['Patio\", \"['Tools & Home Improvement'\"]\n",
      "No rows with valid http image URL; skip CLIP demo.\n"
     ]
    }
   ],
   "source": [
    "from transformers import CLIPModel, CLIPProcessor\n",
    "\n",
    "clip_model = CLIPModel.from_pretrained(\"openai/clip-vit-base-patch32\")\n",
    "clip_proc  = CLIPProcessor.from_pretrained(\"openai/clip-vit-base-patch32\")\n",
    "\n",
    "# build label prompts from category_main\n",
    "labels = sorted(list({c for c in df['category_main'].tolist() if c}))\n",
    "label_texts = [f\"a photo of {c}\" for c in labels]\n",
    "print(\"Label count:\", len(labels), \"Example labels:\", labels[:10])\n",
    "\n",
    "# pick a row that has an HTTP(s) image\n",
    "row = df[df['image_0'].str.startswith('http')].head(1)\n",
    "if not row.empty:\n",
    "    row = row.iloc[0]\n",
    "    img_url = row['image_0']\n",
    "    gt = row['category_main']  # \"ground truth\" main category\n",
    "\n",
    "    try:\n",
    "        resp = requests.get(img_url, timeout=10)\n",
    "        image = Image.open(io.BytesIO(resp.content)).convert(\"RGB\")\n",
    "\n",
    "        inputs = clip_proc(text=label_texts, images=image, return_tensors=\"pt\", padding=True)\n",
    "        with torch.no_grad():\n",
    "            logits = clip_model(**inputs).logits_per_image[0]\n",
    "        pred_idx = int(torch.argmax(logits))\n",
    "        pred = labels[pred_idx]\n",
    "        print(\"GT:\", gt, \"| Pred:\", pred, \"| Title:\", row.get('title'))\n",
    "    except Exception as e:\n",
    "        print(\"Failed to fetch or classify:\", e)\n",
    "else:\n",
    "    print(\"No rows with valid http image URL; skip CLIP demo.\")\n"
   ]
  },
  {
   "cell_type": "code",
   "execution_count": 10,
   "id": "706993fd",
   "metadata": {},
   "outputs": [
    {
     "name": "stderr",
     "output_type": "stream",
     "text": [
      "c:\\Users\\91849\\ai-recs\\backend\\venv\\Lib\\site-packages\\huggingface_hub\\file_download.py:143: UserWarning: `huggingface_hub` cache-system uses symlinks by default to efficiently store duplicated files but your machine does not support them in C:\\Users\\91849\\.cache\\huggingface\\hub\\models--distilgpt2. Caching files will still work but in a degraded version that might require more space on your disk. This warning can be disabled by setting the `HF_HUB_DISABLE_SYMLINKS_WARNING` environment variable. For more details, see https://huggingface.co/docs/huggingface_hub/how-to-cache#limitations.\n",
      "To support symlinks on Windows, you either need to activate Developer Mode or to run Python as an administrator. In order to activate developer mode, see this article: https://docs.microsoft.com/en-us/windows/apps/get-started/enable-your-device-for-development\n",
      "  warnings.warn(message)\n",
      "Xet Storage is enabled for this repo, but the 'hf_xet' package is not installed. Falling back to regular HTTP download. For better performance, install the package with: `pip install huggingface_hub[hf_xet]` or `pip install hf_xet`\n",
      "The attention mask is not set and cannot be inferred from input because pad token is same as eos token. As a consequence, you may observe unexpected behavior. Please pass your input's `attention_mask` to obtain reliable results.\n"
     ]
    },
    {
     "name": "stdout",
     "output_type": "stream",
     "text": [
      "\n"
     ]
    }
   ],
   "source": [
    "from transformers import AutoTokenizer, AutoModelForCausalLM\n",
    "\n",
    "tok = AutoTokenizer.from_pretrained(\"distilgpt2\")\n",
    "lm  = AutoModelForCausalLM.from_pretrained(\"distilgpt2\")\n",
    "\n",
    "def generate_description(sample):\n",
    "    prompt = (f\"Write a catchy 2-sentence product description.\\n\"\n",
    "              f\"Title: {sample.get('title','')}\\n\"\n",
    "              f\"Brand: {sample.get('brand','')}\\n\"\n",
    "              f\"Material: {sample.get('material','')}\\n\"\n",
    "              f\"Color: {sample.get('color','')}\\n\"\n",
    "              f\"Description:\")\n",
    "    ids = tok.encode(prompt, return_tensors='pt')\n",
    "    with torch.no_grad():\n",
    "        out = lm.generate(\n",
    "            ids, max_length=ids.shape[1]+60, do_sample=True,\n",
    "            top_p=0.92, top_k=40, temperature=0.8,\n",
    "            pad_token_id=tok.eos_token_id\n",
    "        )\n",
    "    text = tok.decode(out[0], skip_special_tokens=True)\n",
    "    return text.split(\"Description:\")[-1].strip()\n",
    "\n",
    "sample_row = df.iloc[0].to_dict()\n",
    "gen = generate_description(sample_row)\n",
    "print(gen)\n"
   ]
  },
  {
   "cell_type": "code",
   "execution_count": 11,
   "id": "b894b3ff",
   "metadata": {},
   "outputs": [
    {
     "name": "stdout",
     "output_type": "stream",
     "text": [
      "\n",
      " wooden chair →\n",
      "  - Black Leather Office Chair Mid Back Leather Desk Chair Modern Excutive Office Chair with Arms and Wheels for Home Office, by Artswish\n",
      "  - PONTMENT Foot Stool Leather Footstool Solid Wood Vintage Foot Rest Faux Leather Ottoman Upholstered Footrest for Living Room/Sofa/Couch.\n",
      "  - Adeco Euro Style Fabric Arm Bench Chair Footstool Cubic Ottomans, Brown\n",
      "  - Christopher Knight Home Munro Recliner, Navy Blue + Teak\n",
      "  - Armen Living Julius 30\" Cream Faux Leather and Walnut Wood Bar Stool\n",
      "\n",
      " office desk →\n",
      "  - ODK Small Computer Desk, 27.5 Inch, Compact Tiny Study Desk with Storage and Monitor Stand for Home Office, Small Spaces, Black\n",
      "  - ODK Small Computer Desk, 27.5 inch Desk for Small Spaces with Storage, Compact Table with Monitor & Storage Shelves for Home Office, Modern Style Laptop Desk, Pure White\n",
      "  - It's_Organized Gaming Desk 55 inch PC Computer Desk, K-Frame Home Office Desk Professional Gamer Workstation with Cup Holder Headphone Hook Gaming Handle Rack Free Mousepad, Black\n",
      "  - Lufeiya Small Computer Desk with 2 Drawers for Bedroom, 31 Inch Home Office Desk with Storage Fabric Drawer and Bag, Study Writing Table for Small Spaces, Rustic Brown\n",
      "  - Flash Furniture Walker Small Rustic Natural Home Office Folding Computer Desk - 36\"\n",
      "\n",
      " sofa →\n",
      "  - FANYE Oversized 6 Seaters Modular Storage Sectional Sofa Couch for Home Apartment Office Living Room,Free Combination L/U Shaped Corduroy Upholstered Deep Seat Furniture Convertible Sleeper Sofabed\n",
      "  - PONTMENT Foot Stool Leather Footstool Solid Wood Vintage Foot Rest Faux Leather Ottoman Upholstered Footrest for Living Room/Sofa/Couch.\n",
      "  - Furnistar 15.9 inch Modern Round Velvet Storage Ottoman with Gold Plating Base, Upholstered Footrest Makeup Stool for Bedroom Living Room, Grey(Ship from US)\n",
      "  - Dewhut Oversized Pumpkin Couch Accent Chair, Modern Comfy Velvet Upholstered Barrel Chairs, Luxury Single Sofa Armchair for Living Room, Waiting Room, Office and Vanity, (Navy)\n",
      "  - Karl home Accent Chair Mid-Century Modern Chair with Pillow Upholstered Lounge Arm Chair with Solid Wood Frame & Soft Cushion for Living Room, Bedroom, Belcony, Beige\n",
      "\n",
      " table lamp →\n",
      "  - Henn&Hart 20\" Wide Round Side Table with Mirror Shelf in Antique Brass, Table for Living Room, Bedroom\n",
      "  - Flash Furniture Webb Commercial Grade 24\" Round Blue Metal Indoor-Outdoor Table\n",
      "  - FLYJOE Narrow Side Table with PU Leather Magazine Holder Rustic Slim Little Thin Table for Living Room, Bedroom, Sofa, Set of 2, Black\n",
      "  - Get Set Style Black Glass Side Table, Square Glass End Table Modern Coffee Table with Storage, Glass Mirrored Table for Living Room, Balcony, Bedroom, Office\n",
      "  - Seventable Nightstand with Charging Station and LED Lights, Modern Design End Side Table with 2 Drawers, Nightstand Open Compartment for Bedroom, Black\n"
     ]
    }
   ],
   "source": [
    "def nearest_titles(query, k=5):\n",
    "    docs = store.similarity_search(query, k=k)\n",
    "    return [d.metadata.get('title','') for d in docs]\n",
    "\n",
    "tests = [\"wooden chair\", \"office desk\", \"sofa\", \"table lamp\"]\n",
    "for q in tests:\n",
    "    print(\"\\n\", q, \"→\")\n",
    "    for t in nearest_titles(q, 5):\n",
    "        print(\"  -\", t)\n"
   ]
  },
  {
   "cell_type": "code",
   "execution_count": 12,
   "id": "68d43031",
   "metadata": {},
   "outputs": [
    {
     "data": {
      "text/plain": [
       "{'rows': 312, 'n_categories': 7, 'faiss_saved': True, 'genai_sample': ''}"
      ]
     },
     "execution_count": 12,
     "metadata": {},
     "output_type": "execute_result"
    }
   ],
   "source": [
    "report = {\n",
    "    \"rows\": int(len(df)),\n",
    "    \"n_categories\": int(df['category_main'].nunique()),\n",
    "    \"faiss_saved\": os.path.exists(os.path.join(SAVE_DIR, 'sbert_faiss', 'index.faiss')),\n",
    "    \"genai_sample\": gen[:200] if isinstance(gen, str) else \"\"\n",
    "}\n",
    "os.makedirs(os.path.join('..','data','derived'), exist_ok=True)\n",
    "with open(os.path.join('..','data','derived','model_report.json'), 'w', encoding='utf-8') as f:\n",
    "    json.dump(report, f, indent=2)\n",
    "report\n"
   ]
  }
 ],
 "metadata": {
  "kernelspec": {
   "display_name": "venv (3.13.4)",
   "language": "python",
   "name": "python3"
  },
  "language_info": {
   "codemirror_mode": {
    "name": "ipython",
    "version": 3
   },
   "file_extension": ".py",
   "mimetype": "text/x-python",
   "name": "python",
   "nbconvert_exporter": "python",
   "pygments_lexer": "ipython3",
   "version": "3.13.4"
  }
 },
 "nbformat": 4,
 "nbformat_minor": 5
}
