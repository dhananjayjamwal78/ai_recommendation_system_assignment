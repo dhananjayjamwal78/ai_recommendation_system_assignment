{
 "cells": [
  {
   "cell_type": "code",
   "execution_count": 20,
   "id": "310d4032",
   "metadata": {},
   "outputs": [],
   "source": [
    "import os, random, time, re, io, requests, json, math, warnings\n",
    "import numpy as np\n",
    "import pandas as pd\n",
    "import torch\n",
    "from contextlib import contextmanager\n",
    "\n",
    "warnings.filterwarnings(\"ignore\")\n",
    "\n",
    "# === CONFIG ===\n",
    "PROJECT_ROOT = os.path.abspath(os.path.join(\"..\"))\n",
    "DATA_CSV     = os.path.join(PROJECT_ROOT, \"data\", \"products.csv\")\n",
    "FAISS_DIR    = os.path.join(PROJECT_ROOT, \"models\", \"faiss\", \"sbert_faiss\")\n",
    "SEED         = 42\n",
    "CPU_ONLY     = True  # run on CPU for portability\n",
    "\n",
    "# === REPRODUCIBILITY ===\n",
    "random.seed(SEED)\n",
    "np.random.seed(SEED)\n",
    "torch.manual_seed(SEED)\n",
    "if CPU_ONLY:\n",
    "    os.environ[\"CUDA_VISIBLE_DEVICES\"] = \"\"\n",
    "\n",
    "@contextmanager\n",
    "def stopwatch(msg: str):\n",
    "    t0 = time.time()\n",
    "    yield\n",
    "    print(f\"[time] {msg}: {(time.time()-t0):.2f}s\")\n",
    "\n",
    "pd.set_option(\"display.max_colwidth\", 200)\n"
   ]
  },
  {
   "cell_type": "code",
   "execution_count": 21,
   "id": "9e4caabe",
   "metadata": {},
   "outputs": [
    {
     "name": "stdout",
     "output_type": "stream",
     "text": [
      "Raw shape: (312, 12)\n",
      "Cleaned shape: (312, 16)\n"
     ]
    },
    {
     "data": {
      "text/html": [
       "<div>\n",
       "<style scoped>\n",
       "    .dataframe tbody tr th:only-of-type {\n",
       "        vertical-align: middle;\n",
       "    }\n",
       "\n",
       "    .dataframe tbody tr th {\n",
       "        vertical-align: top;\n",
       "    }\n",
       "\n",
       "    .dataframe thead th {\n",
       "        text-align: right;\n",
       "    }\n",
       "</style>\n",
       "<table border=\"1\" class=\"dataframe\">\n",
       "  <thead>\n",
       "    <tr style=\"text-align: right;\">\n",
       "      <th></th>\n",
       "      <th>uniq_id</th>\n",
       "      <th>title</th>\n",
       "      <th>category_main</th>\n",
       "      <th>price_num</th>\n",
       "    </tr>\n",
       "  </thead>\n",
       "  <tbody>\n",
       "    <tr>\n",
       "      <th>0</th>\n",
       "      <td>02593e81-5c09-5069-8516-b0b29f439ded</td>\n",
       "      <td>GOYMFK 1pc Free Standing Shoe Rack, Multi-layer Metal Shoe Cap Rack With 8 Double Hooks For Living Room, Bathroom, Hallway</td>\n",
       "      <td>['Home &amp; Kitchen'</td>\n",
       "      <td>24.99</td>\n",
       "    </tr>\n",
       "    <tr>\n",
       "      <th>1</th>\n",
       "      <td>5938d217-b8c5-5d3e-b1cf-e28e340f292e</td>\n",
       "      <td>subrtex Leather ding Room, Dining Chairs Set of 2, Black</td>\n",
       "      <td>['Home &amp; Kitchen'</td>\n",
       "      <td>NaN</td>\n",
       "    </tr>\n",
       "    <tr>\n",
       "      <th>2</th>\n",
       "      <td>b2ede786-3f51-5a45-9a5b-bcf856958cd8</td>\n",
       "      <td>Plant Repotting Mat MUYETOL Waterproof Transplanting Mat Indoor 26.8\" x 26.8\" Portable Square Foldable Easy to Clean Gardening Work Mat Soil Changing Mat Succulent Plant Transplanting Mat Garden G...</td>\n",
       "      <td>['Patio</td>\n",
       "      <td>5.98</td>\n",
       "    </tr>\n",
       "    <tr>\n",
       "      <th>3</th>\n",
       "      <td>8fd9377b-cfa6-5f10-835c-6b8eca2816b5</td>\n",
       "      <td>Pickleball Doormat, Welcome Doormat Absorbent Non-Slip Floor Mat Bathroom Mat 16x24</td>\n",
       "      <td>['Patio</td>\n",
       "      <td>13.99</td>\n",
       "    </tr>\n",
       "    <tr>\n",
       "      <th>4</th>\n",
       "      <td>bdc9aa30-9439-50dc-8e89-213ea211d66a</td>\n",
       "      <td>JOIN IRON Foldable TV Trays for Eating Set of 4 with Stand,Folding TV/Snack Tray Table Set,Folding TV Dinner Tables for Small Space,(Grey)</td>\n",
       "      <td>['Home &amp; Kitchen'</td>\n",
       "      <td>89.99</td>\n",
       "    </tr>\n",
       "  </tbody>\n",
       "</table>\n",
       "</div>"
      ],
      "text/plain": [
       "                                uniq_id  \\\n",
       "0  02593e81-5c09-5069-8516-b0b29f439ded   \n",
       "1  5938d217-b8c5-5d3e-b1cf-e28e340f292e   \n",
       "2  b2ede786-3f51-5a45-9a5b-bcf856958cd8   \n",
       "3  8fd9377b-cfa6-5f10-835c-6b8eca2816b5   \n",
       "4  bdc9aa30-9439-50dc-8e89-213ea211d66a   \n",
       "\n",
       "                                                                                                                                                                                                     title  \\\n",
       "0                                                                               GOYMFK 1pc Free Standing Shoe Rack, Multi-layer Metal Shoe Cap Rack With 8 Double Hooks For Living Room, Bathroom, Hallway   \n",
       "1                                                                                                                                                 subrtex Leather ding Room, Dining Chairs Set of 2, Black   \n",
       "2  Plant Repotting Mat MUYETOL Waterproof Transplanting Mat Indoor 26.8\" x 26.8\" Portable Square Foldable Easy to Clean Gardening Work Mat Soil Changing Mat Succulent Plant Transplanting Mat Garden G...   \n",
       "3                                                                                                                      Pickleball Doormat, Welcome Doormat Absorbent Non-Slip Floor Mat Bathroom Mat 16x24   \n",
       "4                                                               JOIN IRON Foldable TV Trays for Eating Set of 4 with Stand,Folding TV/Snack Tray Table Set,Folding TV Dinner Tables for Small Space,(Grey)   \n",
       "\n",
       "       category_main  price_num  \n",
       "0  ['Home & Kitchen'      24.99  \n",
       "1  ['Home & Kitchen'        NaN  \n",
       "2            ['Patio       5.98  \n",
       "3            ['Patio      13.99  \n",
       "4  ['Home & Kitchen'      89.99  "
      ]
     },
     "execution_count": 21,
     "metadata": {},
     "output_type": "execute_result"
    }
   ],
   "source": [
    "assert os.path.exists(DATA_CSV), f\"CSV not found at {DATA_CSV}\"\n",
    "df = pd.read_csv(DATA_CSV).fillna(\"\")\n",
    "print(\"Raw shape:\", df.shape)\n",
    "\n",
    "# Basic cleanup\n",
    "def norm_text(s):\n",
    "    s = str(s)\n",
    "    s = s.replace(\"\\n\", \" \").strip()\n",
    "    s = re.sub(r\"\\s+\", \" \", s)\n",
    "    return s\n",
    "\n",
    "for col in [\"title\", \"brand\", \"description\", \"material\", \"color\", \"categories\", \"images\"]:\n",
    "    if col in df.columns:\n",
    "        df[col] = df[col].map(norm_text)\n",
    "\n",
    "def first_cat(s):\n",
    "    parts = [p.strip() for p in str(s).split(\",\") if p.strip()]\n",
    "    return parts[0] if parts else \"\"\n",
    "\n",
    "def first_img(s):\n",
    "    return str(s).split(\",\")[0].strip() if str(s).strip() else \"\"\n",
    "\n",
    "def parse_price(x):\n",
    "    s = re.sub(r\"[^\\d.\\-]\", \"\", str(x))\n",
    "    try: return float(s)\n",
    "    except: return np.nan\n",
    "\n",
    "df[\"category_main\"] = df.get(\"categories\", \"\").map(first_cat)\n",
    "df[\"image_0\"]       = df.get(\"images\", \"\").map(first_img)\n",
    "df[\"price_num\"]     = df.get(\"price\", \"\").map(parse_price)\n",
    "\n",
    "def coalesce(*vals):\n",
    "    return \" \".join([v for v in map(str, vals) if v and v.strip()])\n",
    "\n",
    "df[\"doc\"] = df.apply(lambda r: coalesce(\n",
    "    r.get(\"title\",\"\"), r.get(\"brand\",\"\"), r.get(\"description\",\"\"),\n",
    "    r.get(\"material\",\"\"), r.get(\"color\",\"\")\n",
    "), axis=1)\n",
    "\n",
    "print(\"Cleaned shape:\", df.shape)\n",
    "df[[\"uniq_id\",\"title\",\"category_main\",\"price_num\"]].head(5)\n"
   ]
  },
  {
   "cell_type": "code",
   "execution_count": 22,
   "id": "c484de60",
   "metadata": {},
   "outputs": [
    {
     "name": "stdout",
     "output_type": "stream",
     "text": [
      "[time] load SentenceTransformer: 5.24s\n"
     ]
    },
    {
     "name": "stderr",
     "output_type": "stream",
     "text": [
      "100%|██████████| 3/3 [00:09<00:00,  3.29s/it]"
     ]
    },
    {
     "name": "stdout",
     "output_type": "stream",
     "text": [
      "[time] encode embeddings (batched): 9.89s\n",
      "Embedding matrix shape: (312, 384)\n"
     ]
    },
    {
     "name": "stderr",
     "output_type": "stream",
     "text": [
      "\n"
     ]
    }
   ],
   "source": [
    "from sentence_transformers import SentenceTransformer\n",
    "from tqdm.auto import tqdm\n",
    "\n",
    "EMB_MODEL = \"sentence-transformers/all-MiniLM-L6-v2\"\n",
    "with stopwatch(\"load SentenceTransformer\"):\n",
    "    embedder = SentenceTransformer(EMB_MODEL)\n",
    "\n",
    "docs = df[\"doc\"].tolist()\n",
    "batch_size = 128\n",
    "all_embs = []\n",
    "\n",
    "with stopwatch(\"encode embeddings (batched)\"):\n",
    "    for i in tqdm(range(0, len(docs), batch_size)):\n",
    "        batch = docs[i:i+batch_size]\n",
    "        embs = embedder.encode(batch, normalize_embeddings=True)\n",
    "        all_embs.append(embs)\n",
    "\n",
    "emb = np.vstack(all_embs).astype(\"float32\")\n",
    "print(\"Embedding matrix shape:\", emb.shape)\n"
   ]
  },
  {
   "cell_type": "code",
   "execution_count": 23,
   "id": "3f076f71",
   "metadata": {},
   "outputs": [
    {
     "name": "stdout",
     "output_type": "stream",
     "text": [
      "[time] FAISS load/build: 0.01s\n",
      "FAISS index: loaded\n"
     ]
    }
   ],
   "source": [
    "from langchain_community.vectorstores import FAISS\n",
    "from langchain.embeddings.base import Embeddings\n",
    "\n",
    "class SBERTEmbeddings(Embeddings):\n",
    "    def __init__(self, model): self.model = model\n",
    "    def embed_documents(self, texts): return self.model.encode(texts, normalize_embeddings=True).tolist()\n",
    "    def embed_query(self, text):      return self.model.encode([text], normalize_embeddings=True)[0].tolist()\n",
    "\n",
    "def load_or_build_faiss(df):\n",
    "    os.makedirs(FAISS_DIR, exist_ok=True)\n",
    "    emb_wrap = SBERTEmbeddings(embedder)\n",
    "    idx_path = os.path.join(FAISS_DIR, \"index.faiss\")\n",
    "\n",
    "    if os.path.exists(idx_path):\n",
    "        store = FAISS.load_local(FAISS_DIR, embeddings=emb_wrap, allow_dangerous_deserialization=True)\n",
    "        return store, \"loaded\"\n",
    "    \n",
    "    # build from scratch\n",
    "    metas = df.to_dict(orient=\"records\")\n",
    "    store = FAISS.from_texts(df[\"doc\"].tolist(), embedding=emb_wrap, metadatas=metas)\n",
    "    store.save_local(FAISS_DIR)\n",
    "    return store, \"built\"\n",
    "\n",
    "with stopwatch(\"FAISS load/build\"):\n",
    "    store, how = load_or_build_faiss(df)\n",
    "print(\"FAISS index:\", how)\n"
   ]
  },
  {
   "cell_type": "code",
   "execution_count": 24,
   "id": "95c59ff5",
   "metadata": {},
   "outputs": [
    {
     "name": "stdout",
     "output_type": "stream",
     "text": [
      "Black Leather Office Chair Mid Back Leather Desk Chair Modern Excutive Office Chair with Arms and Wheels for Home Office, by Artswish | Arts wish Store | $89.98\n",
      "PONTMENT Foot Stool Leather Footstool Solid Wood Vintage Foot Rest Faux Leather Ottoman Upholstered Footrest for Living Room/Sofa/Couch. | PONTMENT | $95.99\n",
      "Armen Living Julius 30\" Cream Faux Leather and Walnut Wood Bar Stool | Armen Living Store | \n",
      "Adeco Euro Style Fabric Arm Bench Chair Footstool Cubic Ottomans, Brown | Adeco Store | \n",
      "Christopher Knight Home Munro Recliner, Navy Blue + Teak | Christopher Knight Home Store | \n"
     ]
    }
   ],
   "source": [
    "query = \"modern wooden chair\"\n",
    "results = store.similarity_search(query, k=5)\n",
    "for r in results:\n",
    "    print(r.metadata.get(\"title\"), \"|\", r.metadata.get(\"brand\"), \"|\", r.metadata.get(\"price\"))\n"
   ]
  },
  {
   "cell_type": "code",
   "execution_count": 25,
   "id": "2a791a43",
   "metadata": {},
   "outputs": [
    {
     "name": "stdout",
     "output_type": "stream",
     "text": [
      "Sample uniq_id: 02593e81-5c09-5069-8516-b0b29f439ded\n"
     ]
    },
    {
     "data": {
      "text/plain": [
       "[('LANTEFUL Shoe Rack Organizer Shoe Storage Cabinet 8 Tiers 32 Pair Portable Shoe Storage Sturdy Plastic Black Shoe Shelf with Hooks Shoe Rack with Door for Entryway, Bedroom and Hallway',\n",
       "  'LANTEFUL Store'),\n",
       " ('sogesfurniture 5 Tier Free Standing Wooden Shoe Storage Shelf Shoe Organizer, 29.5 inches Shoe Rack Shoe Organizer Storage Cabinet for Entryway, Living Room, Hallway, Doorway, Black',\n",
       "  'sogesfurniture Store'),\n",
       " ('FLYJOE Shoe Rack Bench, 3-Tier Freestanding Wooden Shoe Organizer with Seat, Entryway Bench, Storage Shelf for Kitchen Living Room Bathroom Bedroom, Walnut',\n",
       "  'FLYJOE'),\n",
       " ('MoNiBloom Foldable Storage Free Standing Shoes Shelf, Bamboo Multifunctional 4-Tier Shoe Organizer for 16-20 Pairs Entryway, Hallway, Corridor, Natural',\n",
       "  'MoNiBloom Store'),\n",
       " ('Soerreo Shoe Slot Storage Box Adjustable Shoe Rack Save Space Suitable for High Low Heels, Sneakers and Sandals (10 Piece Set)',\n",
       "  'Soerreo')]"
      ]
     },
     "execution_count": 25,
     "metadata": {},
     "output_type": "execute_result"
    }
   ],
   "source": [
    "def recommend_for_id(uniq_id, k=5):\n",
    "    row = df[df[\"uniq_id\"] == uniq_id]\n",
    "    if row.empty: return []\n",
    "    qdoc = row.iloc[0][\"doc\"]\n",
    "    results = store.similarity_search(qdoc, k=k+5)\n",
    "    results = [r for r in results if r.metadata.get(\"uniq_id\") != uniq_id]\n",
    "    return results[:k]\n",
    "\n",
    "sample_id = df.iloc[0][\"uniq_id\"]\n",
    "print(\"Sample uniq_id:\", sample_id)\n",
    "recs = recommend_for_id(sample_id, k=5)\n",
    "[(r.metadata.get(\"title\"), r.metadata.get(\"brand\")) for r in recs]\n"
   ]
  },
  {
   "cell_type": "code",
   "execution_count": 26,
   "id": "91c7a618",
   "metadata": {},
   "outputs": [
    {
     "name": "stdout",
     "output_type": "stream",
     "text": [
      "[time] load CLIP: 5.85s\n",
      "No valid http image found.\n"
     ]
    }
   ],
   "source": [
    "from transformers import CLIPModel, CLIPProcessor\n",
    "from PIL import Image\n",
    "\n",
    "with stopwatch(\"load CLIP\"):\n",
    "    clip_model = CLIPModel.from_pretrained(\"openai/clip-vit-base-patch32\")\n",
    "    clip_proc  = CLIPProcessor.from_pretrained(\"openai/clip-vit-base-patch32\")\n",
    "\n",
    "labels = sorted(list({c for c in df[\"category_main\"].tolist() if c}))\n",
    "label_texts = [f\"a photo of {c}\" for c in labels]\n",
    "\n",
    "def clip_predict(url):\n",
    "    try:\n",
    "        headers = {\"User-Agent\": \"Mozilla/5.0\"}\n",
    "        r = requests.get(url, timeout=8, headers=headers)\n",
    "        r.raise_for_status()\n",
    "        img = Image.open(io.BytesIO(r.content)).convert(\"RGB\")\n",
    "\n",
    "        inputs = clip_proc(text=label_texts, images=img, return_tensors=\"pt\", padding=True)\n",
    "        with torch.no_grad():\n",
    "            logits = clip_model(**inputs).logits_per_image[0]\n",
    "        pred_idx = int(torch.argmax(logits))\n",
    "        return labels[pred_idx]\n",
    "    except Exception as e:\n",
    "        return f\"error: {e}\"\n",
    "\n",
    "# test on one valid image\n",
    "row_http = df[df[\"image_0\"].str.startswith(\"http\")].head(1)\n",
    "if not row_http.empty:\n",
    "    r = row_http.iloc[0]\n",
    "    print(\"GT:\", r[\"category_main\"], \"| Pred:\", clip_predict(r[\"image_0\"]), \"| Title:\", r[\"title\"])\n",
    "else:\n",
    "    print(\"No valid http image found.\")\n"
   ]
  },
  {
   "cell_type": "code",
   "execution_count": 27,
   "id": "b8b45593",
   "metadata": {},
   "outputs": [
    {
     "name": "stdout",
     "output_type": "stream",
     "text": [
      "[time] load GenAI: 2.11s\n",
      "A new line of custom knit accessories with 3 different colors including three \"shoes\" and four \"knobs\", each one contains six patterns made from 6 sheets (four for the first two). The pattern is very similar to this design but has more layers on top than all other pieces we have here\n"
     ]
    }
   ],
   "source": [
    "from transformers import AutoTokenizer, AutoModelForCausalLM\n",
    "\n",
    "GEN_MODEL = \"distilgpt2\"\n",
    "with stopwatch(\"load GenAI\"):\n",
    "    tok = AutoTokenizer.from_pretrained(GEN_MODEL)\n",
    "    lm  = AutoModelForCausalLM.from_pretrained(GEN_MODEL)\n",
    "\n",
    "def gen_description(sample, max_new_tokens=60):\n",
    "    prompt = (f\"Write a catchy 2-sentence product description.\\n\"\n",
    "              f\"Title: {sample.get('title','')}\\n\"\n",
    "              f\"Brand: {sample.get('brand','')}\\n\"\n",
    "              f\"Material: {sample.get('material','')}\\n\"\n",
    "              f\"Color: {sample.get('color','')}\\n\"\n",
    "              f\"Description:\")\n",
    "    ids = tok(prompt, return_tensors=\"pt\").input_ids\n",
    "    with torch.no_grad():\n",
    "        out = lm.generate(\n",
    "            ids,\n",
    "            max_new_tokens=max_new_tokens,\n",
    "            do_sample=True,\n",
    "            top_p=0.92,\n",
    "            top_k=40,\n",
    "            temperature=0.8,\n",
    "            repetition_penalty=1.1,\n",
    "            pad_token_id=tok.eos_token_id,\n",
    "        )\n",
    "    text = tok.decode(out[0], skip_special_tokens=True)\n",
    "    return text.split(\"Description:\")[-1].strip()\n",
    "\n",
    "print(gen_description(df.iloc[0].to_dict()))\n"
   ]
  },
  {
   "cell_type": "code",
   "execution_count": 28,
   "id": "cfc5858e",
   "metadata": {},
   "outputs": [
    {
     "data": {
      "text/plain": [
       "{'rows': 312,\n",
       " 'n_categories': 7,\n",
       " 'faiss_index_saved': True,\n",
       " 'example_gen': 'A lightweight and durable steel body that is easy to use for living rooms with room design elements like leather panels or metal fixtures which are designed specifically to support your needs in bed l'}"
      ]
     },
     "execution_count": 28,
     "metadata": {},
     "output_type": "execute_result"
    }
   ],
   "source": [
    "report = {\n",
    "    \"rows\": int(len(df)),\n",
    "    \"n_categories\": int(df[\"category_main\"].nunique()),\n",
    "    \"faiss_index_saved\": os.path.exists(os.path.join(FAISS_DIR, \"index.faiss\")),\n",
    "    \"example_gen\": gen_description(df.iloc[0].to_dict())[:200]\n",
    "}\n",
    "out_dir = os.path.join(PROJECT_ROOT, \"data\", \"derived\")\n",
    "os.makedirs(out_dir, exist_ok=True)\n",
    "with open(os.path.join(out_dir, \"model_report.json\"), \"w\", encoding=\"utf-8\") as f:\n",
    "    json.dump(report, f, indent=2)\n",
    "report\n"
   ]
  },
  {
   "cell_type": "code",
   "execution_count": 30,
   "id": "f5c56b5c",
   "metadata": {},
   "outputs": [
    {
     "data": {
      "image/png": "[encoded data removed]",
      "text/plain": [
       "<Figure size 750x600 with 1 Axes>"
      ]
     },
     "metadata": {},
     "output_type": "display_data"
    }
   ],
   "source": [
    "# ===== Optional 2D embedding visualization (UMAP preferred, else PCA) =====\n",
    "import numpy as np\n",
    "import matplotlib.pyplot as plt\n",
    "\n",
    "# Try UMAP; if not available, fallback to PCA (no extra install needed)\n",
    "try:\n",
    "    from umap import UMAP\n",
    "    reducer = UMAP(n_components=2, random_state=SEED, n_neighbors=20, min_dist=0.1)\n",
    "    method = \"UMAP\"\n",
    "except Exception:\n",
    "    from sklearn.decomposition import PCA\n",
    "    reducer = PCA(n_components=2, random_state=SEED)\n",
    "    method = \"PCA\"\n",
    "\n",
    "# Sample for speed/clarity on large datasets\n",
    "max_points = 1500\n",
    "if len(df) > max_points:\n",
    "    idxs = np.random.default_rng(SEED).choice(len(df), size=max_points, replace=False)\n",
    "else:\n",
    "    idxs = np.arange(len(df))\n",
    "\n",
    "X = emb[idxs]                      # (N, D) embedding matrix from earlier cells\n",
    "cats = df.iloc[idxs][\"category_main\"].fillna(\"\").astype(str).values\n",
    "\n",
    "# Fit transform\n",
    "pts2d = reducer.fit_transform(X)\n",
    "\n",
    "# Plot top categories (others grouped)\n",
    "topk = 8\n",
    "unique, counts = np.unique(cats, return_counts=True)\n",
    "order = np.argsort(-counts)\n",
    "top_labels = set(unique[order][:topk])\n",
    "\n",
    "plt.figure(figsize=(7.5, 6))\n",
    "for label in unique[order]:\n",
    "    mask = (cats == label)\n",
    "    if label in top_labels:\n",
    "        plt.scatter(pts2d[mask, 0], pts2d[mask, 1], s=10, alpha=0.75, label=label)\n",
    "    else:\n",
    "        # draw \"other\" lightly once\n",
    "        pass\n",
    "# Draw \"other\" points in a light gray\n",
    "other_mask = ~np.isin(cats, list(top_labels))\n",
    "if other_mask.any():\n",
    "    plt.scatter(pts2d[other_mask, 0], pts2d[other_mask, 1], s=8, alpha=0.25, label=\"other\", edgecolors='none')\n",
    "\n",
    "plt.title(f\"2D embedding visualization ({method})\")\n",
    "plt.xlabel(\"dim-1\")\n",
    "plt.ylabel(\"dim-2\")\n",
    "plt.legend(markerscale=2, bbox_to_anchor=(1.04, 1), loc=\"upper left\", frameon=False)\n",
    "plt.tight_layout()\n",
    "plt.show()\n"
   ]
  }
 ],
 "metadata": {
  "kernelspec": {
   "display_name": "venv (3.13.4)",
   "language": "python",
   "name": "python3"
  },
  "language_info": {
   "codemirror_mode": {
    "name": "ipython",
    "version": 3
   },
   "file_extension": ".py",
   "mimetype": "text/x-python",
   "name": "python",
   "nbconvert_exporter": "python",
   "pygments_lexer": "ipython3",
   "version": "3.13.4"
  }
 },
 "nbformat": 4,
 "nbformat_minor": 5
}
